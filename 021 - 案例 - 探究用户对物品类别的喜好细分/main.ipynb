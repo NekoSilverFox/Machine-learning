{
 "cells": [
  {
   "cell_type": "markdown",
   "metadata": {
    "collapsed": true,
    "pycharm": {
     "name": "#%% md\n"
    }
   },
   "source": []
  },
  {
   "cell_type": "markdown",
   "source": [],
   "metadata": {
    "collapsed": false,
    "pycharm": {
     "name": "#%% md\n"
    }
   }
  },
  {
   "cell_type": "code",
   "execution_count": 1,
   "outputs": [],
   "source": [
    "import pandas as pd"
   ],
   "metadata": {
    "collapsed": false,
    "pycharm": {
     "name": "#%%\n"
    }
   }
  },
  {
   "cell_type": "code",
   "execution_count": 2,
   "outputs": [],
   "source": [
    "# 1. 获取数据\n",
    "order_products =  pd.read_csv('./instacart/order_products_prior.csv')\n",
    "products =  pd.read_csv('./instacart/products.csv')\n",
    "orders = pd.read_csv('./instacart/orders.csv')\n",
    "aisles = pd.read_csv('./instacart/aisles.csv')"
   ],
   "metadata": {
    "collapsed": false,
    "pycharm": {
     "name": "#%%\n"
    }
   }
  },
  {
   "cell_type": "markdown",
   "source": [
    "数据如下：\n",
    "\n",
    "order_products__prior.csv：订单与商品信息\n",
    "字段：order_id, product_id, add_to_cart_order, reordered\n",
    "\n",
    "products.csv：商品信息\n",
    "字段：product_id, product_name, aisle_id, department_id\n",
    "\n",
    "orders.csv：用户的订单信息\n",
    "字段：order_id,user_id,eval_set,order_number,….\n",
    "\n",
    "aisles.csv：商品所属具体物品类别\n",
    "字段： aisle_id, aisle"
   ],
   "metadata": {
    "collapsed": false,
    "pycharm": {
     "name": "#%% md\n"
    }
   }
  },
  {
   "cell_type": "code",
   "execution_count": 3,
   "outputs": [],
   "source": [
    "# 2. 合并表\n",
    "tmp_table = pd.merge(left=aisles, right=products, how='inner', on=['aisle_id', 'aisle_id'])  # aisles.csv & products.csv"
   ],
   "metadata": {
    "collapsed": false,
    "pycharm": {
     "name": "#%%\n"
    }
   }
  },
  {
   "cell_type": "code",
   "execution_count": 4,
   "outputs": [],
   "source": [
    "tmp_table = pd.merge(left=tmp_table, right=order_products, how='inner', on=['product_id', 'product_id'])  # products.csv & order_products_prior.csv"
   ],
   "metadata": {
    "collapsed": false,
    "pycharm": {
     "name": "#%%\n"
    }
   }
  },
  {
   "cell_type": "code",
   "execution_count": 5,
   "outputs": [],
   "source": [
    "tmp_table = pd.merge(left=tmp_table, right=orders, how='inner', on=['order_id', 'order_id'])  # order_products__prior.csv & orders.csv"
   ],
   "metadata": {
    "collapsed": false,
    "pycharm": {
     "name": "#%%\n"
    }
   }
  },
  {
   "cell_type": "code",
   "execution_count": 6,
   "outputs": [
    {
     "data": {
      "text/plain": "          aisle_id                       aisle  product_id  \\\n0                1       prepared soups salads         209   \n1                1       prepared soups salads       22853   \n2                4               instant foods       12087   \n3                4               instant foods       47570   \n4               13              prepared meals       10089   \n...            ...                         ...         ...   \n32434484       134  specialty wines champagnes       47713   \n32434485       134  specialty wines champagnes       49562   \n32434486       134  specialty wines champagnes       49562   \n32434487       134  specialty wines champagnes       49562   \n32434488       134  specialty wines champagnes       49562   \n\n                                      product_name  department_id  order_id  \\\n0                              Italian Pasta Salad             20     94246   \n1                                Pesto Pasta Salad             20     94246   \n2                 Chicken Flavor Ramen Noodle Soup              9     94246   \n3         Original Flavor Macaroni & Cheese Dinner              9     94246   \n4                                           Dolmas             20     94246   \n...                                            ...            ...       ...   \n32434484                            Sparkling Rose              5   3014872   \n32434485             Blanc De Noirs Sparkling Wine              5     34570   \n32434486             Blanc De Noirs Sparkling Wine              5    250923   \n32434487             Blanc De Noirs Sparkling Wine              5   1319402   \n32434488             Blanc De Noirs Sparkling Wine              5   2298986   \n\n          add_to_cart_order  reordered  user_id eval_set  order_number  \\\n0                         5          0   114082    prior            26   \n1                         4          0   114082    prior            26   \n2                        15          0   114082    prior            26   \n3                        14          1   114082    prior            26   \n4                        25          0   114082    prior            26   \n...                     ...        ...      ...      ...           ...   \n32434484                  1          0    63218    prior             1   \n32434485                  1          1    37901    prior            13   \n32434486                  1          1    26431    prior            27   \n32434487                  1          1    26431    prior            34   \n32434488                  1          0    37901    prior             9   \n\n          order_dow  order_hour_of_day  days_since_prior_order  \n0                 0                 20                     1.0  \n1                 0                 20                     1.0  \n2                 0                 20                     1.0  \n3                 0                 20                     1.0  \n4                 0                 20                     1.0  \n...             ...                ...                     ...  \n32434484          1                 14                     NaN  \n32434485          3                  9                    13.0  \n32434486          5                 11                    10.0  \n32434487          2                 14                     7.0  \n32434488          2                 11                    13.0  \n\n[32434489 rows x 14 columns]",
      "text/html": "<div>\n<style scoped>\n    .dataframe tbody tr th:only-of-type {\n        vertical-align: middle;\n    }\n\n    .dataframe tbody tr th {\n        vertical-align: top;\n    }\n\n    .dataframe thead th {\n        text-align: right;\n    }\n</style>\n<table border=\"1\" class=\"dataframe\">\n  <thead>\n    <tr style=\"text-align: right;\">\n      <th></th>\n      <th>aisle_id</th>\n      <th>aisle</th>\n      <th>product_id</th>\n      <th>product_name</th>\n      <th>department_id</th>\n      <th>order_id</th>\n      <th>add_to_cart_order</th>\n      <th>reordered</th>\n      <th>user_id</th>\n      <th>eval_set</th>\n      <th>order_number</th>\n      <th>order_dow</th>\n      <th>order_hour_of_day</th>\n      <th>days_since_prior_order</th>\n    </tr>\n  </thead>\n  <tbody>\n    <tr>\n      <th>0</th>\n      <td>1</td>\n      <td>prepared soups salads</td>\n      <td>209</td>\n      <td>Italian Pasta Salad</td>\n      <td>20</td>\n      <td>94246</td>\n      <td>5</td>\n      <td>0</td>\n      <td>114082</td>\n      <td>prior</td>\n      <td>26</td>\n      <td>0</td>\n      <td>20</td>\n      <td>1.0</td>\n    </tr>\n    <tr>\n      <th>1</th>\n      <td>1</td>\n      <td>prepared soups salads</td>\n      <td>22853</td>\n      <td>Pesto Pasta Salad</td>\n      <td>20</td>\n      <td>94246</td>\n      <td>4</td>\n      <td>0</td>\n      <td>114082</td>\n      <td>prior</td>\n      <td>26</td>\n      <td>0</td>\n      <td>20</td>\n      <td>1.0</td>\n    </tr>\n    <tr>\n      <th>2</th>\n      <td>4</td>\n      <td>instant foods</td>\n      <td>12087</td>\n      <td>Chicken Flavor Ramen Noodle Soup</td>\n      <td>9</td>\n      <td>94246</td>\n      <td>15</td>\n      <td>0</td>\n      <td>114082</td>\n      <td>prior</td>\n      <td>26</td>\n      <td>0</td>\n      <td>20</td>\n      <td>1.0</td>\n    </tr>\n    <tr>\n      <th>3</th>\n      <td>4</td>\n      <td>instant foods</td>\n      <td>47570</td>\n      <td>Original Flavor Macaroni &amp; Cheese Dinner</td>\n      <td>9</td>\n      <td>94246</td>\n      <td>14</td>\n      <td>1</td>\n      <td>114082</td>\n      <td>prior</td>\n      <td>26</td>\n      <td>0</td>\n      <td>20</td>\n      <td>1.0</td>\n    </tr>\n    <tr>\n      <th>4</th>\n      <td>13</td>\n      <td>prepared meals</td>\n      <td>10089</td>\n      <td>Dolmas</td>\n      <td>20</td>\n      <td>94246</td>\n      <td>25</td>\n      <td>0</td>\n      <td>114082</td>\n      <td>prior</td>\n      <td>26</td>\n      <td>0</td>\n      <td>20</td>\n      <td>1.0</td>\n    </tr>\n    <tr>\n      <th>...</th>\n      <td>...</td>\n      <td>...</td>\n      <td>...</td>\n      <td>...</td>\n      <td>...</td>\n      <td>...</td>\n      <td>...</td>\n      <td>...</td>\n      <td>...</td>\n      <td>...</td>\n      <td>...</td>\n      <td>...</td>\n      <td>...</td>\n      <td>...</td>\n    </tr>\n    <tr>\n      <th>32434484</th>\n      <td>134</td>\n      <td>specialty wines champagnes</td>\n      <td>47713</td>\n      <td>Sparkling Rose</td>\n      <td>5</td>\n      <td>3014872</td>\n      <td>1</td>\n      <td>0</td>\n      <td>63218</td>\n      <td>prior</td>\n      <td>1</td>\n      <td>1</td>\n      <td>14</td>\n      <td>NaN</td>\n    </tr>\n    <tr>\n      <th>32434485</th>\n      <td>134</td>\n      <td>specialty wines champagnes</td>\n      <td>49562</td>\n      <td>Blanc De Noirs Sparkling Wine</td>\n      <td>5</td>\n      <td>34570</td>\n      <td>1</td>\n      <td>1</td>\n      <td>37901</td>\n      <td>prior</td>\n      <td>13</td>\n      <td>3</td>\n      <td>9</td>\n      <td>13.0</td>\n    </tr>\n    <tr>\n      <th>32434486</th>\n      <td>134</td>\n      <td>specialty wines champagnes</td>\n      <td>49562</td>\n      <td>Blanc De Noirs Sparkling Wine</td>\n      <td>5</td>\n      <td>250923</td>\n      <td>1</td>\n      <td>1</td>\n      <td>26431</td>\n      <td>prior</td>\n      <td>27</td>\n      <td>5</td>\n      <td>11</td>\n      <td>10.0</td>\n    </tr>\n    <tr>\n      <th>32434487</th>\n      <td>134</td>\n      <td>specialty wines champagnes</td>\n      <td>49562</td>\n      <td>Blanc De Noirs Sparkling Wine</td>\n      <td>5</td>\n      <td>1319402</td>\n      <td>1</td>\n      <td>1</td>\n      <td>26431</td>\n      <td>prior</td>\n      <td>34</td>\n      <td>2</td>\n      <td>14</td>\n      <td>7.0</td>\n    </tr>\n    <tr>\n      <th>32434488</th>\n      <td>134</td>\n      <td>specialty wines champagnes</td>\n      <td>49562</td>\n      <td>Blanc De Noirs Sparkling Wine</td>\n      <td>5</td>\n      <td>2298986</td>\n      <td>1</td>\n      <td>0</td>\n      <td>37901</td>\n      <td>prior</td>\n      <td>9</td>\n      <td>2</td>\n      <td>11</td>\n      <td>13.0</td>\n    </tr>\n  </tbody>\n</table>\n<p>32434489 rows × 14 columns</p>\n</div>"
     },
     "execution_count": 6,
     "metadata": {},
     "output_type": "execute_result"
    }
   ],
   "source": [
    "tmp_table"
   ],
   "metadata": {
    "collapsed": false,
    "pycharm": {
     "name": "#%%\n"
    }
   }
  },
  {
   "cell_type": "markdown",
   "source": [],
   "metadata": {
    "collapsed": false,
    "pycharm": {
     "name": "#%% md\n"
    }
   }
  },
  {
   "cell_type": "markdown",
   "source": [
    "找到 user_id 和 aisle 之间的关系"
   ],
   "metadata": {
    "collapsed": false,
    "pycharm": {
     "name": "#%% md\n"
    }
   }
  },
  {
   "cell_type": "code",
   "execution_count": 15,
   "outputs": [],
   "source": [
    "#【重点 | 薄弱点】找到 user_id 和 aisle 之间的关系，也就是通过交叉表找到同一个表中两列的关系\n",
    "#【重点 | 回顾】这里交叉表其实是将 tmp_table 表的 `user_id` 列作为 index\n",
    "data = pd.crosstab(tmp_table['user_id'], tmp_table['aisle'])"
   ],
   "metadata": {
    "collapsed": false,
    "pycharm": {
     "name": "#%%\n"
    }
   }
  },
  {
   "cell_type": "code",
   "execution_count": 23,
   "outputs": [
    {
     "data": {
      "text/plain": "aisle    air fresheners candles  asian foods  baby accessories  \\\nuser_id                                                          \n1                             0            0                 0   \n2                             0            3                 0   \n3                             0            0                 0   \n4                             0            0                 0   \n5                             0            2                 0   \n...                         ...          ...               ...   \n206205                        0            0                 1   \n206206                        0            4                 0   \n206207                        0            0                 0   \n206208                        0            3                 0   \n206209                        0            1                 0   \n\naisle    baby bath body care  baby food formula  bakery desserts  \\\nuser_id                                                            \n1                          0                  0                0   \n2                          0                  0                0   \n3                          0                  0                0   \n4                          0                  0                0   \n5                          0                  0                0   \n...                      ...                ...              ...   \n206205                     0                  0                0   \n206206                     0                  0                0   \n206207                     0                  1                0   \n206208                     0                  3                0   \n206209                     0                  0                0   \n\naisle    baking ingredients  baking supplies decor  beauty  beers coolers  \\\nuser_id                                                                     \n1                         0                      0       0              0   \n2                         2                      0       0              0   \n3                         0                      0       0              0   \n4                         0                      0       0              0   \n5                         0                      0       0              0   \n...                     ...                    ...     ...            ...   \n206205                    0                      0       0              0   \n206206                    4                      1       0              0   \n206207                    0                      0       0              0   \n206208                    4                      0       0              0   \n206209                    0                      0       0              0   \n\naisle    ...  spreads  tea  tofu meat alternatives  tortillas flat bread  \\\nuser_id  ...                                                               \n1        ...        1    0                       0                     0   \n2        ...        3    1                       1                     0   \n3        ...        4    1                       0                     0   \n4        ...        0    0                       0                     1   \n5        ...        0    0                       0                     0   \n...      ...      ...  ...                     ...                   ...   \n206205   ...        0    0                       0                     0   \n206206   ...        1    0                       0                     0   \n206207   ...        3    4                       0                     2   \n206208   ...        5    0                       0                     7   \n206209   ...        0    0                       0                     0   \n\naisle    trail mix snack mix  trash bags liners  vitamins supplements  \\\nuser_id                                                                 \n1                          0                  0                     0   \n2                          0                  0                     0   \n3                          0                  0                     0   \n4                          0                  0                     0   \n5                          0                  0                     0   \n...                      ...                ...                   ...   \n206205                     0                  0                     0   \n206206                     0                  1                     0   \n206207                     1                  0                     0   \n206208                     0                  0                     0   \n206209                     0                  1                     0   \n\naisle    water seltzer sparkling water  white wines  yogurt  \nuser_id                                                      \n1                                    0            0       1  \n2                                    2            0      42  \n3                                    2            0       0  \n4                                    1            0       0  \n5                                    0            0       3  \n...                                ...          ...     ...  \n206205                               0            0       5  \n206206                               1            0       0  \n206207                              11            0      15  \n206208                               0            0      33  \n206209                               0            0       3  \n\n[206209 rows x 134 columns]",
      "text/html": "<div>\n<style scoped>\n    .dataframe tbody tr th:only-of-type {\n        vertical-align: middle;\n    }\n\n    .dataframe tbody tr th {\n        vertical-align: top;\n    }\n\n    .dataframe thead th {\n        text-align: right;\n    }\n</style>\n<table border=\"1\" class=\"dataframe\">\n  <thead>\n    <tr style=\"text-align: right;\">\n      <th>aisle</th>\n      <th>air fresheners candles</th>\n      <th>asian foods</th>\n      <th>baby accessories</th>\n      <th>baby bath body care</th>\n      <th>baby food formula</th>\n      <th>bakery desserts</th>\n      <th>baking ingredients</th>\n      <th>baking supplies decor</th>\n      <th>beauty</th>\n      <th>beers coolers</th>\n      <th>...</th>\n      <th>spreads</th>\n      <th>tea</th>\n      <th>tofu meat alternatives</th>\n      <th>tortillas flat bread</th>\n      <th>trail mix snack mix</th>\n      <th>trash bags liners</th>\n      <th>vitamins supplements</th>\n      <th>water seltzer sparkling water</th>\n      <th>white wines</th>\n      <th>yogurt</th>\n    </tr>\n    <tr>\n      <th>user_id</th>\n      <th></th>\n      <th></th>\n      <th></th>\n      <th></th>\n      <th></th>\n      <th></th>\n      <th></th>\n      <th></th>\n      <th></th>\n      <th></th>\n      <th></th>\n      <th></th>\n      <th></th>\n      <th></th>\n      <th></th>\n      <th></th>\n      <th></th>\n      <th></th>\n      <th></th>\n      <th></th>\n      <th></th>\n    </tr>\n  </thead>\n  <tbody>\n    <tr>\n      <th>1</th>\n      <td>0</td>\n      <td>0</td>\n      <td>0</td>\n      <td>0</td>\n      <td>0</td>\n      <td>0</td>\n      <td>0</td>\n      <td>0</td>\n      <td>0</td>\n      <td>0</td>\n      <td>...</td>\n      <td>1</td>\n      <td>0</td>\n      <td>0</td>\n      <td>0</td>\n      <td>0</td>\n      <td>0</td>\n      <td>0</td>\n      <td>0</td>\n      <td>0</td>\n      <td>1</td>\n    </tr>\n    <tr>\n      <th>2</th>\n      <td>0</td>\n      <td>3</td>\n      <td>0</td>\n      <td>0</td>\n      <td>0</td>\n      <td>0</td>\n      <td>2</td>\n      <td>0</td>\n      <td>0</td>\n      <td>0</td>\n      <td>...</td>\n      <td>3</td>\n      <td>1</td>\n      <td>1</td>\n      <td>0</td>\n      <td>0</td>\n      <td>0</td>\n      <td>0</td>\n      <td>2</td>\n      <td>0</td>\n      <td>42</td>\n    </tr>\n    <tr>\n      <th>3</th>\n      <td>0</td>\n      <td>0</td>\n      <td>0</td>\n      <td>0</td>\n      <td>0</td>\n      <td>0</td>\n      <td>0</td>\n      <td>0</td>\n      <td>0</td>\n      <td>0</td>\n      <td>...</td>\n      <td>4</td>\n      <td>1</td>\n      <td>0</td>\n      <td>0</td>\n      <td>0</td>\n      <td>0</td>\n      <td>0</td>\n      <td>2</td>\n      <td>0</td>\n      <td>0</td>\n    </tr>\n    <tr>\n      <th>4</th>\n      <td>0</td>\n      <td>0</td>\n      <td>0</td>\n      <td>0</td>\n      <td>0</td>\n      <td>0</td>\n      <td>0</td>\n      <td>0</td>\n      <td>0</td>\n      <td>0</td>\n      <td>...</td>\n      <td>0</td>\n      <td>0</td>\n      <td>0</td>\n      <td>1</td>\n      <td>0</td>\n      <td>0</td>\n      <td>0</td>\n      <td>1</td>\n      <td>0</td>\n      <td>0</td>\n    </tr>\n    <tr>\n      <th>5</th>\n      <td>0</td>\n      <td>2</td>\n      <td>0</td>\n      <td>0</td>\n      <td>0</td>\n      <td>0</td>\n      <td>0</td>\n      <td>0</td>\n      <td>0</td>\n      <td>0</td>\n      <td>...</td>\n      <td>0</td>\n      <td>0</td>\n      <td>0</td>\n      <td>0</td>\n      <td>0</td>\n      <td>0</td>\n      <td>0</td>\n      <td>0</td>\n      <td>0</td>\n      <td>3</td>\n    </tr>\n    <tr>\n      <th>...</th>\n      <td>...</td>\n      <td>...</td>\n      <td>...</td>\n      <td>...</td>\n      <td>...</td>\n      <td>...</td>\n      <td>...</td>\n      <td>...</td>\n      <td>...</td>\n      <td>...</td>\n      <td>...</td>\n      <td>...</td>\n      <td>...</td>\n      <td>...</td>\n      <td>...</td>\n      <td>...</td>\n      <td>...</td>\n      <td>...</td>\n      <td>...</td>\n      <td>...</td>\n      <td>...</td>\n    </tr>\n    <tr>\n      <th>206205</th>\n      <td>0</td>\n      <td>0</td>\n      <td>1</td>\n      <td>0</td>\n      <td>0</td>\n      <td>0</td>\n      <td>0</td>\n      <td>0</td>\n      <td>0</td>\n      <td>0</td>\n      <td>...</td>\n      <td>0</td>\n      <td>0</td>\n      <td>0</td>\n      <td>0</td>\n      <td>0</td>\n      <td>0</td>\n      <td>0</td>\n      <td>0</td>\n      <td>0</td>\n      <td>5</td>\n    </tr>\n    <tr>\n      <th>206206</th>\n      <td>0</td>\n      <td>4</td>\n      <td>0</td>\n      <td>0</td>\n      <td>0</td>\n      <td>0</td>\n      <td>4</td>\n      <td>1</td>\n      <td>0</td>\n      <td>0</td>\n      <td>...</td>\n      <td>1</td>\n      <td>0</td>\n      <td>0</td>\n      <td>0</td>\n      <td>0</td>\n      <td>1</td>\n      <td>0</td>\n      <td>1</td>\n      <td>0</td>\n      <td>0</td>\n    </tr>\n    <tr>\n      <th>206207</th>\n      <td>0</td>\n      <td>0</td>\n      <td>0</td>\n      <td>0</td>\n      <td>1</td>\n      <td>0</td>\n      <td>0</td>\n      <td>0</td>\n      <td>0</td>\n      <td>0</td>\n      <td>...</td>\n      <td>3</td>\n      <td>4</td>\n      <td>0</td>\n      <td>2</td>\n      <td>1</td>\n      <td>0</td>\n      <td>0</td>\n      <td>11</td>\n      <td>0</td>\n      <td>15</td>\n    </tr>\n    <tr>\n      <th>206208</th>\n      <td>0</td>\n      <td>3</td>\n      <td>0</td>\n      <td>0</td>\n      <td>3</td>\n      <td>0</td>\n      <td>4</td>\n      <td>0</td>\n      <td>0</td>\n      <td>0</td>\n      <td>...</td>\n      <td>5</td>\n      <td>0</td>\n      <td>0</td>\n      <td>7</td>\n      <td>0</td>\n      <td>0</td>\n      <td>0</td>\n      <td>0</td>\n      <td>0</td>\n      <td>33</td>\n    </tr>\n    <tr>\n      <th>206209</th>\n      <td>0</td>\n      <td>1</td>\n      <td>0</td>\n      <td>0</td>\n      <td>0</td>\n      <td>0</td>\n      <td>0</td>\n      <td>0</td>\n      <td>0</td>\n      <td>0</td>\n      <td>...</td>\n      <td>0</td>\n      <td>0</td>\n      <td>0</td>\n      <td>0</td>\n      <td>0</td>\n      <td>1</td>\n      <td>0</td>\n      <td>0</td>\n      <td>0</td>\n      <td>3</td>\n    </tr>\n  </tbody>\n</table>\n<p>206209 rows × 134 columns</p>\n</div>"
     },
     "execution_count": 23,
     "metadata": {},
     "output_type": "execute_result"
    }
   ],
   "source": [
    "data"
   ],
   "metadata": {
    "collapsed": false,
    "pycharm": {
     "name": "#%%\n"
    }
   }
  },
  {
   "cell_type": "code",
   "execution_count": 24,
   "outputs": [
    {
     "data": {
      "text/plain": "Int64Index([     1,      2,      3,      4,      5,      6,      7,      8,\n                 9,     10,\n            ...\n            206200, 206201, 206202, 206203, 206204, 206205, 206206, 206207,\n            206208, 206209],\n           dtype='int64', name='user_id', length=206209)"
     },
     "execution_count": 24,
     "metadata": {},
     "output_type": "execute_result"
    }
   ],
   "source": [
    "data.index"
   ],
   "metadata": {
    "collapsed": false,
    "pycharm": {
     "name": "#%%\n"
    }
   }
  },
  {
   "cell_type": "code",
   "execution_count": 18,
   "outputs": [],
   "source": [
    "# 4. PCA 降维\n",
    "from sklearn.decomposition import PCA"
   ],
   "metadata": {
    "collapsed": false,
    "pycharm": {
     "name": "#%%\n"
    }
   }
  },
  {
   "cell_type": "code",
   "execution_count": 21,
   "outputs": [],
   "source": [
    "# 实例化转换器\n",
    "transfer = PCA(n_components=0.95)\n",
    "\n",
    "# 调用 fit_tranform\n",
    "data_new = transfer.fit_transform(data)"
   ],
   "metadata": {
    "collapsed": false,
    "pycharm": {
     "name": "#%%\n"
    }
   }
  },
  {
   "cell_type": "code",
   "execution_count": 22,
   "outputs": [
    {
     "data": {
      "text/plain": "array([[-24.21565874,   2.4294272 ,  -2.46636975, ...,  -0.08877715,\n         -0.38087761,   0.21568831],\n       [  6.46320808,  36.75111646,   8.38255336, ...,   1.912145  ,\n          1.79468946,  -0.70142249],\n       [ -7.99030162,   2.40438257, -11.03006405, ...,  -0.72188348,\n         -1.15719089,  -0.23704277],\n       ...,\n       [  8.61143331,   7.70129866,   7.95240226, ...,   0.23971061,\n         -0.78590175,  -2.65945606],\n       [ 84.08621987,  20.41873398,   8.05410372, ...,  -1.66893212,\n          0.5042934 ,   3.82546312],\n       [-13.95345619,   6.64621821,  -5.23030367, ...,  -1.64144758,\n         -3.39233648,  -0.31410713]])"
     },
     "execution_count": 22,
     "metadata": {},
     "output_type": "execute_result"
    }
   ],
   "source": [
    "data_new"
   ],
   "metadata": {
    "collapsed": false,
    "pycharm": {
     "name": "#%%\n"
    }
   }
  },
  {
   "cell_type": "code",
   "execution_count": null,
   "outputs": [],
   "source": [],
   "metadata": {
    "collapsed": false,
    "pycharm": {
     "name": "#%%\n"
    }
   }
  }
 ],
 "metadata": {
  "kernelspec": {
   "display_name": "Python 3",
   "language": "python",
   "name": "python3"
  },
  "language_info": {
   "codemirror_mode": {
    "name": "ipython",
    "version": 2
   },
   "file_extension": ".py",
   "mimetype": "text/x-python",
   "name": "python",
   "nbconvert_exporter": "python",
   "pygments_lexer": "ipython2",
   "version": "2.7.6"
  }
 },
 "nbformat": 4,
 "nbformat_minor": 0
}