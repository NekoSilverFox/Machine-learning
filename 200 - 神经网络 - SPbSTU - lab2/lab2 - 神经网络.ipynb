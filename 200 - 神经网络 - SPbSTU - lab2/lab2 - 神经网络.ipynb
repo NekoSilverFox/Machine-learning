{
 "cells": [
  {
   "cell_type": "markdown",
   "metadata": {},
   "source": [
    "# Нейронные сети\n",
    "\n",
    "1.\tПостройте нейронную сеть из одного нейрона и обучите её на датасетах nn_0.csv и nn_1.csv. Насколько отличается результат обучения и почему? Сколько потребовалось эпох для обучения? Попробуйте различные функции активации и оптимизаторы. \n",
    "\n",
    "建立一个由一个神经元组成的神经网络，并在数据集nn_0.csv和nn_1.csv上训练它。训练结果有什么不同，为什么？训练需要多少个纪元？尝试不同的激活函数和优化器。\n"
   ]
  },
  {
   "cell_type": "code",
   "execution_count": null,
   "metadata": {},
   "outputs": [],
   "source": [
    "import pandas as pd\n",
    "import matplotlib.pyplot as plt\n",
    "from sklearn.model_selection import train_test_split\n",
    "from sklearn.preprocessing import LabelBinarizer\n",
    "from keras import models, layers\n",
    "\n",
    "\n",
    "data = pd.read_csv(filepath_or_buffer='./nn_0.csv')\n",
    "# plt.figure(figsize=(20, 10), dpi=50)\n",
    "plt.scatter(data[data['class'] == -1]['X1'], data[data['class'] == -1]['X2'], label='class == -1')\n",
    "plt.scatter(data[data['class'] == +1]['X1'], data[data['class'] == +1]['X2'], label='class == +1')\n",
    "plt.legend()\n",
    "plt.xlabel('X1')\n",
    "plt.ylabel('X2')\n",
    "plt.title('Points in nn_0.csv')\n",
    "plt.show()\n",
    "\n",
    "x_train, x_test, y_train, y_test = train_test_split(data.iloc[:, :-1], data.iloc[:, -1:], random_state=90102)\n",
    "transfer = LabelBinarizer()\n",
    "y_train = transfer.fit_transform(y=y_train)\n",
    "y_test = transfer.transform(y=y_test)\n",
    "\n",
    "# 激活函数和优化器\n",
    "# Функции активации и оптимизаторы\n",
    "activation_list = ['sigmoid', 'relu', 'softmax']\n",
    "optimizer_list = ['adam', 'adamax', 'RMSprop', 'SGD']\n",
    "for activation in activation_list:\n",
    "    for optimizer in optimizer_list:\n",
    "        visible = layers.Input(shape=(2,))\n",
    "        hidden = layers.Dense(1, activation=activation)(visible)\n",
    "        model = models.Model(inputs=visible, outputs=hidden)\n",
    "        model.compile(\n",
    "            optimizer = optimizer,\n",
    "            loss = \"binary_crossentropy\",\n",
    "            metrics = [\"accuracy\"]\n",
    "        )\n",
    "\n",
    "        model.fit(x_train, y_train, epochs=20, batch_size=2, validation_split=0.2, verbose=0)\n",
    "\n",
    "        test_loss, test_acc = model.evaluate(x_test, y_test, verbose=0)\n",
    "        print(f'activation: {activation} | optimizer: {optimizer} | accuracy: {test_acc}')"
   ]
  },
  {
   "cell_type": "markdown",
   "metadata": {},
   "source": [
    "2.  Модифицируйте нейронную сеть из пункта 1, чтобы достичь\n",
    " минимальной ошибки на датасете nn_1.csv. Почему были выбраны именно такие гиперпараметы?\n",
    "\n",
    "修改步骤1中的神经网络，使其在数据集nn_1.csv上达到最小误差。为什么选择这些超参数？"
   ]
  },
  {
   "cell_type": "code",
   "execution_count": 29,
   "metadata": {},
   "outputs": [
    {
     "data": {
      "image/png": "[encoded data removed]",
      "text/plain": [
       "<Figure size 432x288 with 1 Axes>"
      ]
     },
     "metadata": {
      "needs_background": "light"
     },
     "output_type": "display_data"
    },
    {
     "name": "stdout",
     "output_type": "stream",
     "text": [
      "Epoch 1/12\n",
      "19/75 [======>.......................] - ETA: 0s - loss: 0.8991 - accuracy: 0.5238"
     ]
    },
    {
     "name": "stderr",
     "output_type": "stream",
     "text": [
      "2022-05-10 22:56:20.584277: I tensorflow/core/grappler/optimizers/custom_graph_optimizer_registry.cc:112] Plugin optimizer for device_type GPU is enabled.\n"
     ]
    },
    {
     "name": "stdout",
     "output_type": "stream",
     "text": [
      "75/75 [==============================] - 1s 8ms/step - loss: 0.7917 - accuracy: 0.5317 - val_loss: 0.6280 - val_accuracy: 0.5263\n",
      "Epoch 2/12\n",
      "19/75 [======>.......................] - ETA: 0s - loss: 0.6195 - accuracy: 0.6341  "
     ]
    },
    {
     "name": "stderr",
     "output_type": "stream",
     "text": [
      "2022-05-10 22:56:21.183335: I tensorflow/core/grappler/optimizers/custom_graph_optimizer_registry.cc:112] Plugin optimizer for device_type GPU is enabled.\n"
     ]
    },
    {
     "name": "stdout",
     "output_type": "stream",
     "text": [
      "75/75 [==============================] - 0s 7ms/step - loss: 0.6070 - accuracy: 0.6424 - val_loss: 0.5517 - val_accuracy: 0.5526\n",
      "Epoch 3/12\n",
      "75/75 [==============================] - 1s 8ms/step - loss: 0.5488 - accuracy: 0.6449 - val_loss: 0.4919 - val_accuracy: 0.6316\n",
      "Epoch 4/12\n",
      "75/75 [==============================] - 1s 8ms/step - loss: 0.5346 - accuracy: 0.6837 - val_loss: 0.4960 - val_accuracy: 0.6316\n",
      "Epoch 5/12\n",
      "75/75 [==============================] - 1s 8ms/step - loss: 0.4776 - accuracy: 0.8148 - val_loss: 0.4243 - val_accuracy: 0.7368\n",
      "Epoch 6/12\n",
      "75/75 [==============================] - 1s 7ms/step - loss: 0.4475 - accuracy: 0.7195 - val_loss: 0.4705 - val_accuracy: 0.7632\n",
      "Epoch 7/12\n",
      "75/75 [==============================] - 0s 6ms/step - loss: 0.4072 - accuracy: 0.8616 - val_loss: 0.4205 - val_accuracy: 0.7895\n",
      "Epoch 8/12\n",
      "75/75 [==============================] - 0s 6ms/step - loss: 0.3467 - accuracy: 0.9015 - val_loss: 0.3662 - val_accuracy: 0.8421\n",
      "Epoch 9/12\n",
      "75/75 [==============================] - 0s 6ms/step - loss: 0.3487 - accuracy: 0.8812 - val_loss: 0.3386 - val_accuracy: 0.8684\n",
      "Epoch 10/12\n",
      "75/75 [==============================] - 0s 6ms/step - loss: 0.2911 - accuracy: 0.9107 - val_loss: 0.3043 - val_accuracy: 0.8947\n",
      "Epoch 11/12\n",
      "75/75 [==============================] - 0s 6ms/step - loss: 0.3029 - accuracy: 0.9214 - val_loss: 0.2636 - val_accuracy: 0.9211\n",
      "Epoch 12/12\n",
      "75/75 [==============================] - 1s 7ms/step - loss: 0.2427 - accuracy: 0.9621 - val_loss: 0.2407 - val_accuracy: 0.9474\n",
      "2/2 [==============================] - 0s 21ms/step - loss: 0.2364 - accuracy: 0.9841\n",
      "accuracy: 0.9841270446777344\n"
     ]
    },
    {
     "name": "stderr",
     "output_type": "stream",
     "text": [
      "2022-05-10 22:56:27.033091: I tensorflow/core/grappler/optimizers/custom_graph_optimizer_registry.cc:112] Plugin optimizer for device_type GPU is enabled.\n"
     ]
    }
   ],
   "source": [
    "import pandas as pd\n",
    "from sklearn.model_selection import train_test_split\n",
    "from sklearn.preprocessing import LabelBinarizer\n",
    "from keras import models, layers, regularizers\n",
    "\n",
    "\n",
    "data = pd.read_csv(filepath_or_buffer='./nn_1.csv')\n",
    "x_train, x_test, y_train, y_test = train_test_split(data.iloc[:, :-1], data.iloc[:, -1:], random_state=90102)\n",
    "transfer = LabelBinarizer()\n",
    "y_train = transfer.fit_transform(y=y_train)\n",
    "y_test = transfer.transform(y=y_test)\n",
    "\n",
    "# 激活函数和优化器\n",
    "# Функции активации и оптимизаторы\n",
    "visible = layers.Input(shape=(2,))\n",
    "hidden = layers.Dense(8, activation='relu', activity_regularizer=regularizers.l2(0.02))(visible)\n",
    "hidden_2 = layers.Dense(1, activation='relu')(hidden)\n",
    "model = models.Model(inputs=visible, outputs=hidden_2)\n",
    "model.compile(\n",
    "    optimizer = 'SGD',\n",
    "    loss = \"binary_crossentropy\",\n",
    "    metrics = [\"accuracy\"]\n",
    ")\n",
    "\n",
    "model.fit(x_train, y_train, epochs=12, batch_size=2, validation_split=0.2)\n",
    "\n",
    "test_loss, test_acc = model.evaluate(x_test, y_test)\n",
    "print(f'accuracy: {test_acc}')"
   ]
  },
  {
   "cell_type": "markdown",
   "metadata": {},
   "source": [
    "3.\tСоздайте классификатор на базе нейронной сети для набора данных MNIST (так же можно загрузить с помощью torchvision.datasets.MNIST, tensorflow.keras.datasets.mnist.load_data и пр.). Оцените качество классификации.\n",
    "\n",
    "为MNIST数据集创建一个基于神经网络的分类器（你也可以使用torchvision.datasets.MNIST、tensorflow.keras.datasets.mnist.load_data等加载）。评估分类的质量。"
   ]
  },
  {
   "cell_type": "code",
   "execution_count": 32,
   "metadata": {},
   "outputs": [
    {
     "name": "stdout",
     "output_type": "stream",
     "text": [
      "Downloading data from https://storage.googleapis.com/tensorflow/tf-keras-datasets/mnist.npz\n",
      "11493376/11490434 [==============================] - 0s 0us/step\n",
      "11501568/11490434 [==============================] - 0s 0us/step\n",
      "Epoch 1/15\n"
     ]
    },
    {
     "name": "stderr",
     "output_type": "stream",
     "text": [
      "2022-05-10 23:11:41.355980: I tensorflow/core/grappler/optimizers/custom_graph_optimizer_registry.cc:112] Plugin optimizer for device_type GPU is enabled.\n"
     ]
    },
    {
     "name": "stdout",
     "output_type": "stream",
     "text": [
      "422/422 [==============================] - ETA: 0s - loss: 0.4352 - accuracy: 0.8672"
     ]
    },
    {
     "name": "stderr",
     "output_type": "stream",
     "text": [
      "2022-05-10 23:11:45.984624: I tensorflow/core/grappler/optimizers/custom_graph_optimizer_registry.cc:112] Plugin optimizer for device_type GPU is enabled.\n"
     ]
    },
    {
     "name": "stdout",
     "output_type": "stream",
     "text": [
      "422/422 [==============================] - 5s 8ms/step - loss: 0.4347 - accuracy: 0.8674 - val_loss: 0.1003 - val_accuracy: 0.9715\n",
      "Epoch 2/15\n",
      "422/422 [==============================] - 3s 7ms/step - loss: 0.0895 - accuracy: 0.9716 - val_loss: 0.0828 - val_accuracy: 0.9760\n",
      "Epoch 3/15\n",
      "422/422 [==============================] - 3s 8ms/step - loss: 0.0560 - accuracy: 0.9824 - val_loss: 0.0779 - val_accuracy: 0.9777\n",
      "Epoch 4/15\n",
      "422/422 [==============================] - 3s 7ms/step - loss: 0.0394 - accuracy: 0.9875 - val_loss: 0.0730 - val_accuracy: 0.9812\n",
      "Epoch 5/15\n",
      "422/422 [==============================] - 3s 7ms/step - loss: 0.0242 - accuracy: 0.9923 - val_loss: 0.0952 - val_accuracy: 0.9765\n",
      "Epoch 6/15\n",
      "422/422 [==============================] - 3s 8ms/step - loss: 0.0242 - accuracy: 0.9918 - val_loss: 0.0888 - val_accuracy: 0.9772\n",
      "Epoch 7/15\n",
      "422/422 [==============================] - 3s 7ms/step - loss: 0.0204 - accuracy: 0.9929 - val_loss: 0.0785 - val_accuracy: 0.9807\n",
      "Epoch 8/15\n",
      "422/422 [==============================] - 3s 7ms/step - loss: 0.0155 - accuracy: 0.9949 - val_loss: 0.0885 - val_accuracy: 0.9798\n",
      "Epoch 9/15\n",
      "422/422 [==============================] - 3s 8ms/step - loss: 0.0110 - accuracy: 0.9965 - val_loss: 0.1219 - val_accuracy: 0.9762\n",
      "Epoch 10/15\n",
      "422/422 [==============================] - 3s 8ms/step - loss: 0.0151 - accuracy: 0.9943 - val_loss: 0.0794 - val_accuracy: 0.9817\n",
      "Epoch 11/15\n",
      "422/422 [==============================] - 3s 7ms/step - loss: 0.0111 - accuracy: 0.9965 - val_loss: 0.0904 - val_accuracy: 0.9813\n",
      "Epoch 12/15\n",
      "422/422 [==============================] - 3s 7ms/step - loss: 0.0121 - accuracy: 0.9961 - val_loss: 0.0960 - val_accuracy: 0.9788\n",
      "Epoch 13/15\n",
      "422/422 [==============================] - 3s 7ms/step - loss: 0.0089 - accuracy: 0.9968 - val_loss: 0.0867 - val_accuracy: 0.9817\n",
      "Epoch 14/15\n",
      "422/422 [==============================] - 3s 8ms/step - loss: 0.0075 - accuracy: 0.9979 - val_loss: 0.0937 - val_accuracy: 0.9833\n",
      "Epoch 15/15\n",
      "422/422 [==============================] - 3s 7ms/step - loss: 0.0126 - accuracy: 0.9960 - val_loss: 0.0970 - val_accuracy: 0.9818\n",
      "313/313 [==============================] - 2s 6ms/step - loss: 0.0893 - accuracy: 0.9816\n",
      "accuracy: 0.9816000461578369\n"
     ]
    }
   ],
   "source": [
    "import pandas as pd\n",
    "from keras.utils import np_utils\n",
    "from keras.datasets import mnist\n",
    "\n",
    "num_train = 60000\n",
    "num_test = 10000\n",
    "\n",
    "height, width, depth = 28, 28, 1\n",
    "\n",
    "(x_train, y_train), (x_test, y_test) = mnist.load_data()\n",
    "\n",
    "x_train = x_train.reshape(num_train, height * width)\n",
    "x_test = x_test.reshape(num_test, height * width)\n",
    "x_train = x_train.astype('float32')\n",
    "x_test = x_test.astype('float32')\n",
    "\n",
    "# Normalizing\n",
    "x_train /= 255\n",
    "x_test /= 255\n",
    "\n",
    "num_classes = 10\n",
    "y_train = np_utils.to_categorical(y_train, num_classes)\n",
    "y_test = np_utils.to_categorical(y_test, num_classes)\n",
    "\n",
    "visible = layers.Input(shape=(height * width,))\n",
    "hidden = layers.Dense(512, activation='relu')(visible)\n",
    "hidden_2 = layers.Dense(512, activation='relu')(hidden)\n",
    "out = layers.Dense(10, activation='softmax')(hidden_2)\n",
    "\n",
    "model = models.Model(inputs=visible, outputs=out)\n",
    "model.compile(optimizer = 'adam',\n",
    "              loss = \"categorical_crossentropy\",\n",
    "              metrics = [\"accuracy\"])\n",
    "\n",
    "model.fit(x_train, y_train, epochs=15, batch_size=128, validation_split=0.1)\n",
    "\n",
    "test_loss, test_acc = model.evaluate(x_test, y_test)\n",
    "print(f'accuracy: {test_acc}')\n"
   ]
  }
 ],
 "metadata": {
  "interpreter": {
   "hash": "82fbf0ad6a6eca7a69180b2bd3ff6aea027475b75ed567609a5c2d14f96b81f1"
  },
  "kernelspec": {
   "display_name": "Python 3.9.12 ('tensorflow')",
   "language": "python",
   "name": "python3"
  },
  "language_info": {
   "codemirror_mode": {
    "name": "ipython",
    "version": 3
   },
   "file_extension": ".py",
   "mimetype": "text/x-python",
   "name": "python",
   "nbconvert_exporter": "python",
   "pygments_lexer": "ipython3",
   "version": "3.9.12"
  },
  "orig_nbformat": 4
 },
 "nbformat": 4,
 "nbformat_minor": 2
}
