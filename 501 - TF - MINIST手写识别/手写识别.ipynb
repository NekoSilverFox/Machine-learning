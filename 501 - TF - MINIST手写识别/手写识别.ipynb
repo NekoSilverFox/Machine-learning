{
 "cells": [
  {
   "cell_type": "code",
   "execution_count": 7,
   "metadata": {},
   "outputs": [
    {
     "name": "stdout",
     "output_type": "stream",
     "text": [
      "Metal device set to: Apple M1 Pro\n",
      "\n",
      "systemMemory: 16.00 GB\n",
      "maxCacheSize: 5.33 GB\n",
      "\n"
     ]
    },
    {
     "name": "stderr",
     "output_type": "stream",
     "text": [
      "2022-09-28 00:35:25.916576: I tensorflow/core/common_runtime/pluggable_device/pluggable_device_factory.cc:305] Could not identify NUMA node of platform GPU ID 0, defaulting to 0. Your kernel may not have been built with NUMA support.\n",
      "2022-09-28 00:35:25.916797: I tensorflow/core/common_runtime/pluggable_device/pluggable_device_factory.cc:271] Created TensorFlow device (/job:localhost/replica:0/task:0/device:GPU:0 with 0 MB memory) -> physical PluggableDevice (device: 0, name: METAL, pci bus id: <undefined>)\n",
      "2022-09-28 00:35:27.571393: I tensorflow/compiler/mlir/mlir_graph_optimization_pass.cc:176] None of the MLIR Optimization Passes are enabled (registered 2)\n",
      "2022-09-28 00:35:27.572231: W tensorflow/core/platform/profile_utils/cpu_utils.cc:128] Failed to get CPU frequency: 0 Hz\n",
      "2022-09-28 00:35:27.690882: I tensorflow/core/grappler/optimizers/custom_graph_optimizer_registry.cc:112] Plugin optimizer for device_type GPU is enabled.\n"
     ]
    },
    {
     "name": "stdout",
     "output_type": "stream",
     "text": [
      "Epoch 1/5\n",
      "1875/1875 [==============================] - 10s 4ms/step - loss: 0.2880 - accuracy: 0.9181\n",
      "Epoch 2/5\n",
      "1875/1875 [==============================] - 8s 4ms/step - loss: 0.1348 - accuracy: 0.9594\n",
      "Epoch 3/5\n",
      "1875/1875 [==============================] - 8s 4ms/step - loss: 0.1004 - accuracy: 0.9697\n",
      "Epoch 4/5\n",
      "1875/1875 [==============================] - 8s 4ms/step - loss: 0.0807 - accuracy: 0.9750\n",
      "Epoch 5/5\n",
      "1875/1875 [==============================] - 8s 4ms/step - loss: 0.0667 - accuracy: 0.9791\n"
     ]
    },
    {
     "name": "stderr",
     "output_type": "stream",
     "text": [
      "2022-09-28 00:36:10.629521: I tensorflow/core/grappler/optimizers/custom_graph_optimizer_registry.cc:112] Plugin optimizer for device_type GPU is enabled.\n"
     ]
    },
    {
     "name": "stdout",
     "output_type": "stream",
     "text": [
      "313/313 - 1s - loss: 0.0731 - accuracy: 0.9775\n"
     ]
    },
    {
     "data": {
      "text/plain": [
       "[0.07314568758010864, 0.9775000214576721]"
      ]
     },
     "execution_count": 7,
     "metadata": {},
     "output_type": "execute_result"
    }
   ],
   "source": [
    "import tensorflow as tf\n",
    "#载入MINST数据集\n",
    "mnist = tf.keras.datasets.mnist\n",
    "\n",
    "#划分训练集和测试集\n",
    "(x_train, y_train), (x_test, y_test) = mnist.load_data()\n",
    "x_train, x_test = x_train / 255.0, x_test / 255.0\n",
    "\n",
    "\n",
    "#定义模型结构和模型参数\n",
    "model = tf.keras.models.Sequential([\n",
    "    #输入层28*28维矩阵\n",
    "    tf.keras.layers.Flatten(input_shape=(28, 28)), \n",
    "    #128维隐层，使用relu作为激活函数\n",
    "    tf.keras.layers.Dense(128, activation='relu'), \n",
    "    tf.keras.layers.Dropout(0.2),\n",
    "    #输出层采用softmax模型，处理多分类问题\n",
    "    tf.keras.layers.Dense(10, activation='softmax')\n",
    "])\n",
    "#定义模型的优化方法(adam)，损失函数(sparse_categorical_crossentropy)和评估指标(accuracy)\n",
    "model.compile(optimizer='adam',\n",
    "              loss='sparse_categorical_crossentropy',\n",
    "              metrics=['accuracy'])\n",
    "\n",
    "\n",
    "#训练模型，进行5轮迭代更新(epochs=5）\n",
    "model.fit(x_train, y_train, epochs=5)\n",
    "#评估模型\n",
    "model.evaluate(x_test,  y_test, verbose=2)"
   ]
  },
  {
   "cell_type": "code",
   "execution_count": 15,
   "metadata": {},
   "outputs": [
    {
     "name": "stdout",
     "output_type": "stream",
     "text": [
      "Model: \"sequential_10\"\n",
      "_________________________________________________________________\n",
      "Layer (type)                 Output Shape              Param #   \n",
      "=================================================================\n",
      "dense_24 (Dense)             (None, 784)               615440    \n",
      "_________________________________________________________________\n",
      "dense_25 (Dense)             (None, 784)               615440    \n",
      "_________________________________________________________________\n",
      "dense_26 (Dense)             (None, 10)                7850      \n",
      "=================================================================\n",
      "Total params: 1,238,730\n",
      "Trainable params: 1,238,730\n",
      "Non-trainable params: 0\n",
      "_________________________________________________________________\n",
      "Epoch 1/20\n"
     ]
    },
    {
     "name": "stderr",
     "output_type": "stream",
     "text": [
      "2022-09-28 00:46:32.516818: I tensorflow/core/grappler/optimizers/custom_graph_optimizer_registry.cc:112] Plugin optimizer for device_type GPU is enabled.\n"
     ]
    },
    {
     "name": "stdout",
     "output_type": "stream",
     "text": [
      "300/300 - 2s - loss: 0.0899 - accuracy: 0.1629 - val_loss: 0.0883 - val_accuracy: 0.2303\n"
     ]
    },
    {
     "name": "stderr",
     "output_type": "stream",
     "text": [
      "2022-09-28 00:46:33.918822: I tensorflow/core/grappler/optimizers/custom_graph_optimizer_registry.cc:112] Plugin optimizer for device_type GPU is enabled.\n"
     ]
    },
    {
     "name": "stdout",
     "output_type": "stream",
     "text": [
      "Epoch 2/20\n",
      "300/300 - 1s - loss: 0.0869 - accuracy: 0.2660 - val_loss: 0.0852 - val_accuracy: 0.3005\n",
      "Epoch 3/20\n",
      "300/300 - 1s - loss: 0.0837 - accuracy: 0.3226 - val_loss: 0.0820 - val_accuracy: 0.3640\n",
      "Epoch 4/20\n",
      "300/300 - 1s - loss: 0.0805 - accuracy: 0.3934 - val_loss: 0.0785 - val_accuracy: 0.4446\n",
      "Epoch 5/20\n",
      "300/300 - 1s - loss: 0.0770 - accuracy: 0.4729 - val_loss: 0.0748 - val_accuracy: 0.5304\n",
      "Epoch 6/20\n",
      "300/300 - 1s - loss: 0.0732 - accuracy: 0.5513 - val_loss: 0.0707 - val_accuracy: 0.6010\n",
      "Epoch 7/20\n",
      "300/300 - 1s - loss: 0.0690 - accuracy: 0.6143 - val_loss: 0.0662 - val_accuracy: 0.6497\n",
      "Epoch 8/20\n",
      "300/300 - 1s - loss: 0.0647 - accuracy: 0.6580 - val_loss: 0.0617 - val_accuracy: 0.6855\n",
      "Epoch 9/20\n",
      "300/300 - 1s - loss: 0.0602 - accuracy: 0.6868 - val_loss: 0.0573 - val_accuracy: 0.7074\n",
      "Epoch 10/20\n",
      "300/300 - 1s - loss: 0.0560 - accuracy: 0.7080 - val_loss: 0.0531 - val_accuracy: 0.7263\n",
      "Epoch 11/20\n",
      "300/300 - 1s - loss: 0.0522 - accuracy: 0.7266 - val_loss: 0.0494 - val_accuracy: 0.7406\n",
      "Epoch 12/20\n",
      "300/300 - 1s - loss: 0.0487 - accuracy: 0.7429 - val_loss: 0.0460 - val_accuracy: 0.7581\n",
      "Epoch 13/20\n",
      "300/300 - 1s - loss: 0.0456 - accuracy: 0.7592 - val_loss: 0.0429 - val_accuracy: 0.7772\n",
      "Epoch 14/20\n",
      "300/300 - 1s - loss: 0.0427 - accuracy: 0.7778 - val_loss: 0.0402 - val_accuracy: 0.7980\n",
      "Epoch 15/20\n",
      "300/300 - 1s - loss: 0.0402 - accuracy: 0.7961 - val_loss: 0.0378 - val_accuracy: 0.8123\n",
      "Epoch 16/20\n",
      "300/300 - 1s - loss: 0.0379 - accuracy: 0.8101 - val_loss: 0.0356 - val_accuracy: 0.8245\n",
      "Epoch 17/20\n",
      "300/300 - 1s - loss: 0.0359 - accuracy: 0.8199 - val_loss: 0.0337 - val_accuracy: 0.8326\n",
      "Epoch 18/20\n",
      "300/300 - 1s - loss: 0.0341 - accuracy: 0.8278 - val_loss: 0.0320 - val_accuracy: 0.8395\n",
      "Epoch 19/20\n",
      "300/300 - 1s - loss: 0.0325 - accuracy: 0.8344 - val_loss: 0.0305 - val_accuracy: 0.8455\n",
      "Epoch 20/20\n",
      "300/300 - 1s - loss: 0.0311 - accuracy: 0.8406 - val_loss: 0.0292 - val_accuracy: 0.8503\n",
      "训练用时：0:00:26.454624\n"
     ]
    }
   ],
   "source": [
    "import numpy as np\n",
    "import tensorflow as tf\n",
    "import datetime\n",
    "\n",
    "np.random.seed(0)\n",
    "\n",
    "(X_train, y_train), (X_test, y_test) = tf.keras.datasets.mnist.load_data()\n",
    "\n",
    "num_pixels = X_train.shape[1] * X_train.shape[2]  # 784\n",
    "\n",
    "#将二维数组拉成一维向量\n",
    "X_train = X_train.reshape(X_train.shape[0], num_pixels).astype('float32')\n",
    "X_test = X_test.reshape(X_test.shape[0], num_pixels).astype('float32')\n",
    "\n",
    "X_train = X_train / 255\n",
    "X_test = X_test / 255\n",
    "\n",
    "y_train = tf.keras.utils.to_categorical(y_train)  #转化为独热编码\n",
    "y_test = tf.keras.utils.to_categorical(y_test)\n",
    "num_classes = y_test.shape[1]  # 10\n",
    "\n",
    "#多层全连接神经网络模型\n",
    "model = tf.keras.Sequential([\n",
    "    tf.keras.layers.Dense(num_pixels, input_shape=(num_pixels,),\n",
    "                    kernel_initializer='normal', activation='relu'),\n",
    "    tf.keras.layers.Dense(784, kernel_initializer='normal', activation='relu'),\n",
    "    tf.keras.layers.Dense(num_classes, kernel_initializer='normal',\n",
    "                    activation='softmax')\n",
    "])\n",
    "model = tf.keras.Sequential()\n",
    "model.add(tf.keras.layers.Dense(num_pixels, input_shape=(num_pixels,), kernel_initializer='normal', activation='relu'))\n",
    "model.add(tf.keras.layers.Dense(784, kernel_initializer='normal', activation='relu'))\n",
    "model.add(tf.keras.layers.Dense(num_classes, kernel_initializer='normal',  activation='softmax'))\n",
    "\n",
    "\n",
    "model.summary()\n",
    "\n",
    "# model.compile(loss='mean_squared_error', optimizer='sgd', metrics=['accuracy'])\n",
    "model.compile(loss='categorical_crossentropy', optimizer='adam', metrics=['accuracy'])\n",
    "\n",
    "startdate = datetime.datetime.now()  # 获取当前时间\n",
    "model.fit(X_train, y_train, validation_data=(X_test, y_test), epochs=20, batch_size=200, verbose=2)\n",
    "enddate = datetime.datetime.now()\n",
    "\n",
    "print(\"训练用时：\" + str(enddate - startdate))"
   ]
  },
  {
   "cell_type": "code",
   "execution_count": 17,
   "metadata": {},
   "outputs": [
    {
     "name": "stdout",
     "output_type": "stream",
     "text": [
      "Model: \"sequential_12\"\n",
      "_________________________________________________________________\n",
      "Layer (type)                 Output Shape              Param #   \n",
      "=================================================================\n",
      "conv2d_6 (Conv2D)            (None, 24, 24, 32)        832       \n",
      "_________________________________________________________________\n",
      "max_pooling2d_6 (MaxPooling2 (None, 12, 12, 32)        0         \n",
      "_________________________________________________________________\n",
      "dropout_7 (Dropout)          (None, 12, 12, 32)        0         \n",
      "_________________________________________________________________\n",
      "flatten_8 (Flatten)          (None, 4608)              0         \n",
      "_________________________________________________________________\n",
      "batch_normalization_7 (Batch (None, 4608)              18432     \n",
      "_________________________________________________________________\n",
      "batch_normalization_8 (Batch (None, 4608)              18432     \n",
      "_________________________________________________________________\n",
      "batch_normalization_9 (Batch (None, 4608)              18432     \n",
      "_________________________________________________________________\n",
      "batch_normalization_10 (Batc (None, 4608)              18432     \n",
      "_________________________________________________________________\n",
      "dense_29 (Dense)             (None, 128)               589952    \n",
      "_________________________________________________________________\n",
      "dense_30 (Dense)             (None, 10)                1290      \n",
      "=================================================================\n",
      "Total params: 665,802\n",
      "Trainable params: 628,938\n",
      "Non-trainable params: 36,864\n",
      "_________________________________________________________________\n",
      "None\n",
      "---------------------------------------------->>\n",
      "Epoch 1/2\n"
     ]
    },
    {
     "name": "stderr",
     "output_type": "stream",
     "text": [
      "2022-09-28 00:57:39.204787: I tensorflow/core/grappler/optimizers/custom_graph_optimizer_registry.cc:112] Plugin optimizer for device_type GPU is enabled.\n",
      "2022-09-28 00:57:44.435983: I tensorflow/core/grappler/optimizers/custom_graph_optimizer_registry.cc:112] Plugin optimizer for device_type GPU is enabled.\n"
     ]
    },
    {
     "name": "stdout",
     "output_type": "stream",
     "text": [
      "300/300 - 6s - loss: 0.1481 - accuracy: 0.9563 - val_loss: 0.2336 - val_accuracy: 0.9767\n",
      "Epoch 2/2\n",
      "300/300 - 5s - loss: 0.0478 - accuracy: 0.9854 - val_loss: 0.0629 - val_accuracy: 0.9835\n",
      "time:0:00:10.934750\n"
     ]
    }
   ],
   "source": [
    "import numpy as np\n",
    "import tensorflow as tf\n",
    "import datetime\n",
    "np.random.seed(0)\n",
    "\n",
    "(x_train, y_train), (x_test, y_test) = tf.keras.datasets.mnist.load_data()\n",
    "x_train = x_train.reshape(x_train.shape[0],28,28,1).astype('float32')\n",
    "x_test = x_test.reshape(x_test.shape[0],28,28,1).astype('float32')\n",
    "\n",
    "x_train = x_train/255\n",
    "x_test = x_test/255\n",
    "\n",
    "y_train = tf.keras.utils.to_categorical(y_train)\n",
    "y_test = tf.keras.utils.to_categorical(y_test)\n",
    "num_classes = y_test.shape[1]\n",
    "\n",
    "#CNN\n",
    "model = tf.keras.Sequential()\n",
    "model.add(tf.keras.layers.Conv2D(filters=32,kernel_size=(5,5),input_shape=(28,28,1),activation='relu'))\n",
    "model.add(tf.keras.layers.MaxPool2D(pool_size=(2,2)))\n",
    "model.add(tf.keras.layers.Dropout(0.2))\n",
    "model.add(tf.keras.layers.Flatten())\n",
    "model.add(tf.keras.layers.BatchNormalization())\n",
    "model.add(tf.keras.layers.Dense(128,activation='relu'))\n",
    "model.add(tf.keras.layers.Dense(num_classes,activation='softmax'))\n",
    "\n",
    "print(model.summary())\n",
    "print(\"---------------------------------------------->>\")\n",
    "model.compile(loss='categorical_crossentropy',optimizer='adam',metrics=['accuracy'])\n",
    "startDate = datetime.datetime.now()\n",
    "model.fit(x_train,y_train,validation_data=(x_test,y_test),epochs=2,batch_size=200,verbose=2)\n",
    "endDate = datetime.datetime.now()\n",
    "\n",
    "print(\"time:\"+str(endDate-startDate))"
   ]
  },
  {
   "cell_type": "code",
   "execution_count": 18,
   "metadata": {},
   "outputs": [
    {
     "name": "stdout",
     "output_type": "stream",
     "text": [
      "Model: \"sequential_13\"\n",
      "_________________________________________________________________\n",
      "Layer (type)                 Output Shape              Param #   \n",
      "=================================================================\n",
      "conv2d_7 (Conv2D)            (None, 28, 28, 16)        416       \n",
      "_________________________________________________________________\n",
      "max_pooling2d_7 (MaxPooling2 (None, 14, 14, 16)        0         \n",
      "_________________________________________________________________\n",
      "conv2d_8 (Conv2D)            (None, 14, 14, 36)        14436     \n",
      "_________________________________________________________________\n",
      "max_pooling2d_8 (MaxPooling2 (None, 7, 7, 36)          0         \n",
      "_________________________________________________________________\n",
      "dropout_8 (Dropout)          (None, 7, 7, 36)          0         \n",
      "_________________________________________________________________\n",
      "flatten_9 (Flatten)          (None, 1764)              0         \n",
      "_________________________________________________________________\n",
      "dense_31 (Dense)             (None, 128)               225920    \n",
      "_________________________________________________________________\n",
      "dropout_9 (Dropout)          (None, 128)               0         \n",
      "_________________________________________________________________\n",
      "dense_32 (Dense)             (None, 10)                1290      \n",
      "=================================================================\n",
      "Total params: 242,062\n",
      "Trainable params: 242,062\n",
      "Non-trainable params: 0\n",
      "_________________________________________________________________\n",
      "None\n",
      "Epoch 1/20\n"
     ]
    },
    {
     "name": "stderr",
     "output_type": "stream",
     "text": [
      "2022-09-28 00:59:58.591347: I tensorflow/core/grappler/optimizers/custom_graph_optimizer_registry.cc:112] Plugin optimizer for device_type GPU is enabled.\n",
      "2022-09-28 01:00:02.505448: I tensorflow/core/grappler/optimizers/custom_graph_optimizer_registry.cc:112] Plugin optimizer for device_type GPU is enabled.\n"
     ]
    },
    {
     "name": "stdout",
     "output_type": "stream",
     "text": [
      "160/160 - 4s - loss: 0.4678 - accuracy: 0.8547 - val_loss: 0.0953 - val_accuracy: 0.9717\n",
      "Epoch 2/20\n",
      "160/160 - 3s - loss: 0.1254 - accuracy: 0.9631 - val_loss: 0.0638 - val_accuracy: 0.9812\n",
      "Epoch 3/20\n",
      "160/160 - 3s - loss: 0.0903 - accuracy: 0.9729 - val_loss: 0.0532 - val_accuracy: 0.9838\n",
      "Epoch 4/20\n",
      "160/160 - 3s - loss: 0.0742 - accuracy: 0.9779 - val_loss: 0.0432 - val_accuracy: 0.9877\n",
      "Epoch 5/20\n",
      "160/160 - 3s - loss: 0.0623 - accuracy: 0.9810 - val_loss: 0.0417 - val_accuracy: 0.9878\n",
      "Epoch 6/20\n",
      "160/160 - 3s - loss: 0.0548 - accuracy: 0.9827 - val_loss: 0.0386 - val_accuracy: 0.9891\n",
      "Epoch 7/20\n",
      "160/160 - 3s - loss: 0.0485 - accuracy: 0.9848 - val_loss: 0.0373 - val_accuracy: 0.9892\n",
      "Epoch 8/20\n",
      "160/160 - 3s - loss: 0.0426 - accuracy: 0.9866 - val_loss: 0.0342 - val_accuracy: 0.9896\n",
      "Epoch 9/20\n",
      "160/160 - 3s - loss: 0.0408 - accuracy: 0.9874 - val_loss: 0.0336 - val_accuracy: 0.9899\n",
      "Epoch 10/20\n",
      "160/160 - 3s - loss: 0.0365 - accuracy: 0.9886 - val_loss: 0.0324 - val_accuracy: 0.9910\n",
      "Epoch 11/20\n",
      "160/160 - 3s - loss: 0.0332 - accuracy: 0.9897 - val_loss: 0.0343 - val_accuracy: 0.9903\n",
      "Epoch 12/20\n",
      "160/160 - 3s - loss: 0.0306 - accuracy: 0.9902 - val_loss: 0.0325 - val_accuracy: 0.9914\n",
      "Epoch 13/20\n",
      "160/160 - 3s - loss: 0.0290 - accuracy: 0.9908 - val_loss: 0.0336 - val_accuracy: 0.9914\n",
      "Epoch 14/20\n",
      "160/160 - 3s - loss: 0.0276 - accuracy: 0.9909 - val_loss: 0.0320 - val_accuracy: 0.9908\n",
      "Epoch 15/20\n",
      "160/160 - 3s - loss: 0.0272 - accuracy: 0.9911 - val_loss: 0.0301 - val_accuracy: 0.9918\n",
      "Epoch 16/20\n",
      "160/160 - 3s - loss: 0.0246 - accuracy: 0.9920 - val_loss: 0.0345 - val_accuracy: 0.9909\n",
      "Epoch 17/20\n",
      "160/160 - 3s - loss: 0.0237 - accuracy: 0.9921 - val_loss: 0.0325 - val_accuracy: 0.9917\n",
      "Epoch 18/20\n",
      "160/160 - 3s - loss: 0.0208 - accuracy: 0.9931 - val_loss: 0.0329 - val_accuracy: 0.9914\n",
      "Epoch 19/20\n",
      "160/160 - 3s - loss: 0.0196 - accuracy: 0.9937 - val_loss: 0.0307 - val_accuracy: 0.9920\n",
      "Epoch 20/20\n",
      "160/160 - 3s - loss: 0.0192 - accuracy: 0.9933 - val_loss: 0.0304 - val_accuracy: 0.9917\n"
     ]
    },
    {
     "data": {
      "text/plain": [
       "<tensorflow.python.keras.callbacks.History at 0x1621d6b80>"
      ]
     },
     "execution_count": 18,
     "metadata": {},
     "output_type": "execute_result"
    }
   ],
   "source": [
    "# https://blog.csdn.net/qq_43673118/article/details/102992944\n",
    "\n",
    "#导入模块\n",
    "import tensorflow as tf\n",
    "#导入数据集\n",
    "mnist = tf.keras.datasets.mnist\n",
    "(x_train, y_train), (x_test, y_test) = mnist.load_data()\n",
    "\n",
    "#Reshape\n",
    "x_train4D = x_train.reshape(x_train.shape[0],28,28,1).astype('float32') \n",
    "x_test4D = x_test.reshape(x_test.shape[0],28,28,1).astype('float32') \n",
    "#像素标准化\n",
    "x_train, x_test = x_train4D / 255.0, x_test4D / 255.0\n",
    "\n",
    "model = tf.keras.models.Sequential([\n",
    "    tf.keras.layers.Conv2D(filters=16, kernel_size=(5,5), padding='same',\n",
    "                 input_shape=(28,28,1),  activation='relu'),\n",
    "    tf.keras.layers.MaxPooling2D(pool_size=(2, 2)),\n",
    "    tf.keras.layers.Conv2D(filters=36, kernel_size=(5,5), padding='same', \n",
    "    \t\t\t activation='relu'),\n",
    "    tf.keras.layers.MaxPooling2D(pool_size=(2, 2)),\n",
    "    tf.keras.layers.Dropout(0.25),\n",
    "    tf.keras.layers.Flatten(),\n",
    "    tf.keras.layers.Dense(128, activation='relu'),\n",
    "    tf.keras.layers.Dropout(0.5),\n",
    "    tf.keras.layers.Dense(10,activation='softmax')\n",
    "])\n",
    "\n",
    "#打印模型\n",
    "print(model.summary())\n",
    "\n",
    "\n",
    "#训练配置\n",
    "model.compile(loss='sparse_categorical_crossentropy',\n",
    "              optimizer='adam', metrics=['accuracy']) \n",
    "#开始训练\n",
    "model.fit(x=x_train, y=y_train, validation_split=0.2, \n",
    "                        epochs=20, batch_size=300, verbose=2) \n"
   ]
  }
 ],
 "metadata": {
  "kernelspec": {
   "display_name": "Python 3.9.12 ('tensorflow')",
   "language": "python",
   "name": "python3"
  },
  "language_info": {
   "codemirror_mode": {
    "name": "ipython",
    "version": 3
   },
   "file_extension": ".py",
   "mimetype": "text/x-python",
   "name": "python",
   "nbconvert_exporter": "python",
   "pygments_lexer": "ipython3",
   "version": "3.9.12"
  },
  "orig_nbformat": 4,
  "vscode": {
   "interpreter": {
    "hash": "82fbf0ad6a6eca7a69180b2bd3ff6aea027475b75ed567609a5c2d14f96b81f1"
   }
  }
 },
 "nbformat": 4,
 "nbformat_minor": 2
}
