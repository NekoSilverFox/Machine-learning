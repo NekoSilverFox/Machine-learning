{
 "cells": [
  {
   "cell_type": "code",
   "execution_count": 1,
   "metadata": {
    "pycharm": {
     "name": "#%%\n"
    }
   },
   "outputs": [],
   "source": [
    "# 1. 获取数据\n",
    "import pandas as pd\n",
    "\n",
    "order_products =  pd.read_csv('/Users/fox/雪狸的文件/【资料】学习中/快速入门机器学习/资料/day1资料/02-代码/instacart/order_products__prior.csv')\n",
    "products =  pd.read_csv('../021 - 特征降维 - PCA 降维 - 探究用户对物品类别的喜好细分/instacart/products.csv')\n",
    "orders = pd.read_csv('/Users/fox/雪狸的文件/【资料】学习中/快速入门机器学习/资料/day1资料/02-代码/instacart/orders.csv')\n",
    "aisles = pd.read_csv('../021 - 特征降维 - PCA 降维 - 探究用户对物品类别的喜好细分/instacart/aisles.csv')\n",
    "\n",
    "# 2. 合并表\n",
    "tmp_table = pd.merge(left=aisles, right=products, how='inner', on=['aisle_id', 'aisle_id'])  # aisles.csv & products.csv\n",
    "tmp_table = pd.merge(left=tmp_table, right=order_products, how='inner', on=['product_id', 'product_id'])  # products.csv & order_products_prior.csv\n",
    "tmp_table = pd.merge(left=tmp_table, right=orders, how='inner', on=['order_id', 'order_id'])  # order_products__prior.csv & orders.csv"
   ]
  },
  {
   "cell_type": "code",
   "execution_count": 2,
   "metadata": {
    "pycharm": {
     "name": "#%%\n"
    }
   },
   "outputs": [
    {
     "data": {
      "text/html": [
       "<div>\n",
       "<style scoped>\n",
       "    .dataframe tbody tr th:only-of-type {\n",
       "        vertical-align: middle;\n",
       "    }\n",
       "\n",
       "    .dataframe tbody tr th {\n",
       "        vertical-align: top;\n",
       "    }\n",
       "\n",
       "    .dataframe thead th {\n",
       "        text-align: right;\n",
       "    }\n",
       "</style>\n",
       "<table border=\"1\" class=\"dataframe\">\n",
       "  <thead>\n",
       "    <tr style=\"text-align: right;\">\n",
       "      <th></th>\n",
       "      <th>aisle_id</th>\n",
       "      <th>aisle</th>\n",
       "      <th>product_id</th>\n",
       "      <th>product_name</th>\n",
       "      <th>department_id</th>\n",
       "      <th>order_id</th>\n",
       "      <th>add_to_cart_order</th>\n",
       "      <th>reordered</th>\n",
       "      <th>user_id</th>\n",
       "      <th>eval_set</th>\n",
       "      <th>order_number</th>\n",
       "      <th>order_dow</th>\n",
       "      <th>order_hour_of_day</th>\n",
       "      <th>days_since_prior_order</th>\n",
       "    </tr>\n",
       "  </thead>\n",
       "  <tbody>\n",
       "    <tr>\n",
       "      <th>0</th>\n",
       "      <td>1</td>\n",
       "      <td>prepared soups salads</td>\n",
       "      <td>209</td>\n",
       "      <td>Italian Pasta Salad</td>\n",
       "      <td>20</td>\n",
       "      <td>94246</td>\n",
       "      <td>5</td>\n",
       "      <td>0</td>\n",
       "      <td>114082</td>\n",
       "      <td>prior</td>\n",
       "      <td>26</td>\n",
       "      <td>0</td>\n",
       "      <td>20</td>\n",
       "      <td>1.0</td>\n",
       "    </tr>\n",
       "    <tr>\n",
       "      <th>1</th>\n",
       "      <td>1</td>\n",
       "      <td>prepared soups salads</td>\n",
       "      <td>22853</td>\n",
       "      <td>Pesto Pasta Salad</td>\n",
       "      <td>20</td>\n",
       "      <td>94246</td>\n",
       "      <td>4</td>\n",
       "      <td>0</td>\n",
       "      <td>114082</td>\n",
       "      <td>prior</td>\n",
       "      <td>26</td>\n",
       "      <td>0</td>\n",
       "      <td>20</td>\n",
       "      <td>1.0</td>\n",
       "    </tr>\n",
       "    <tr>\n",
       "      <th>2</th>\n",
       "      <td>4</td>\n",
       "      <td>instant foods</td>\n",
       "      <td>12087</td>\n",
       "      <td>Chicken Flavor Ramen Noodle Soup</td>\n",
       "      <td>9</td>\n",
       "      <td>94246</td>\n",
       "      <td>15</td>\n",
       "      <td>0</td>\n",
       "      <td>114082</td>\n",
       "      <td>prior</td>\n",
       "      <td>26</td>\n",
       "      <td>0</td>\n",
       "      <td>20</td>\n",
       "      <td>1.0</td>\n",
       "    </tr>\n",
       "    <tr>\n",
       "      <th>3</th>\n",
       "      <td>4</td>\n",
       "      <td>instant foods</td>\n",
       "      <td>47570</td>\n",
       "      <td>Original Flavor Macaroni &amp; Cheese Dinner</td>\n",
       "      <td>9</td>\n",
       "      <td>94246</td>\n",
       "      <td>14</td>\n",
       "      <td>1</td>\n",
       "      <td>114082</td>\n",
       "      <td>prior</td>\n",
       "      <td>26</td>\n",
       "      <td>0</td>\n",
       "      <td>20</td>\n",
       "      <td>1.0</td>\n",
       "    </tr>\n",
       "    <tr>\n",
       "      <th>4</th>\n",
       "      <td>13</td>\n",
       "      <td>prepared meals</td>\n",
       "      <td>10089</td>\n",
       "      <td>Dolmas</td>\n",
       "      <td>20</td>\n",
       "      <td>94246</td>\n",
       "      <td>25</td>\n",
       "      <td>0</td>\n",
       "      <td>114082</td>\n",
       "      <td>prior</td>\n",
       "      <td>26</td>\n",
       "      <td>0</td>\n",
       "      <td>20</td>\n",
       "      <td>1.0</td>\n",
       "    </tr>\n",
       "  </tbody>\n",
       "</table>\n",
       "</div>"
      ],
      "text/plain": [
       "   aisle_id                  aisle  product_id  \\\n",
       "0         1  prepared soups salads         209   \n",
       "1         1  prepared soups salads       22853   \n",
       "2         4          instant foods       12087   \n",
       "3         4          instant foods       47570   \n",
       "4        13         prepared meals       10089   \n",
       "\n",
       "                               product_name  department_id  order_id  \\\n",
       "0                       Italian Pasta Salad             20     94246   \n",
       "1                         Pesto Pasta Salad             20     94246   \n",
       "2          Chicken Flavor Ramen Noodle Soup              9     94246   \n",
       "3  Original Flavor Macaroni & Cheese Dinner              9     94246   \n",
       "4                                    Dolmas             20     94246   \n",
       "\n",
       "   add_to_cart_order  reordered  user_id eval_set  order_number  order_dow  \\\n",
       "0                  5          0   114082    prior            26          0   \n",
       "1                  4          0   114082    prior            26          0   \n",
       "2                 15          0   114082    prior            26          0   \n",
       "3                 14          1   114082    prior            26          0   \n",
       "4                 25          0   114082    prior            26          0   \n",
       "\n",
       "   order_hour_of_day  days_since_prior_order  \n",
       "0                 20                     1.0  \n",
       "1                 20                     1.0  \n",
       "2                 20                     1.0  \n",
       "3                 20                     1.0  \n",
       "4                 20                     1.0  "
      ]
     },
     "execution_count": 2,
     "metadata": {},
     "output_type": "execute_result"
    }
   ],
   "source": [
    "tmp_table.head()"
   ]
  },
  {
   "cell_type": "code",
   "execution_count": 3,
   "metadata": {
    "pycharm": {
     "name": "#%%\n"
    }
   },
   "outputs": [],
   "source": [
    "# 找到 user_id 和 aisle 之间的关系\n",
    "#【重点 | 薄弱点】找到 user_id 和 aisle 之间的关系，也就是通过交叉表找到同一个表中两列的关系\n",
    "#【重点 | 回顾】这里交叉表其实是将 tmp_table 表的 `user_id` 列作为 index\n",
    "data = pd.crosstab(tmp_table['user_id'], tmp_table['aisle'])"
   ]
  },
  {
   "cell_type": "code",
   "execution_count": 4,
   "metadata": {
    "pycharm": {
     "name": "#%%\n"
    }
   },
   "outputs": [
    {
     "data": {
      "text/plain": [
       "(5, 134)"
      ]
     },
     "execution_count": 4,
     "metadata": {},
     "output_type": "execute_result"
    }
   ],
   "source": [
    "data.head().shape"
   ]
  },
  {
   "cell_type": "code",
   "execution_count": 5,
   "metadata": {
    "pycharm": {
     "name": "#%%\n"
    }
   },
   "outputs": [],
   "source": [
    "# PCA 降维\n",
    "from sklearn import decomposition\n",
    "transfer = decomposition.PCA(n_components=0.95)\n",
    "data = transfer.fit_transform(X=data)"
   ]
  },
  {
   "cell_type": "code",
   "execution_count": null,
   "outputs": [],
   "source": [
    "data"
   ],
   "metadata": {
    "collapsed": false,
    "pycharm": {
     "name": "#%%\n"
    }
   }
  },
  {
   "cell_type": "code",
   "execution_count": null,
   "outputs": [],
   "source": [
    "data.shape"
   ],
   "metadata": {
    "collapsed": false,
    "pycharm": {
     "name": "#%%\n"
    }
   }
  },
  {
   "cell_type": "code",
   "execution_count": 6,
   "metadata": {
    "pycharm": {
     "name": "#%%\n"
    }
   },
   "outputs": [
    {
     "data": {
      "text/plain": [
       "(206209, 44)"
      ]
     },
     "execution_count": 6,
     "metadata": {},
     "output_type": "execute_result"
    }
   ],
   "source": [
    "data.shape"
   ]
  },
  {
   "cell_type": "code",
   "execution_count": 7,
   "metadata": {
    "pycharm": {
     "name": "#%%\n"
    }
   },
   "outputs": [
    {
     "data": {
      "text/plain": [
       "KMeans(n_clusters=3)"
      ]
     },
     "execution_count": 7,
     "metadata": {},
     "output_type": "execute_result"
    }
   ],
   "source": [
    "# 调用 k-means 预估器\n",
    "from sklearn import cluster\n",
    "estimator = cluster.KMeans(n_clusters=3)\n",
    "estimator.fit(X=data)  # 由于 K-means 算法是无监督学习，所以只需要传递 X"
   ]
  },
  {
   "cell_type": "code",
   "execution_count": 8,
   "metadata": {
    "pycharm": {
     "name": "#%%\n"
    }
   },
   "outputs": [
    {
     "data": {
      "text/plain": [
       "array([1, 1, 1, 1, 1, 1, 1, 1, 1, 1, 1, 1, 1, 1, 1, 1, 1, 1, 1, 1, 1, 1,\n",
       "       1, 1, 1, 1, 0, 1, 1, 1, 1, 1, 1, 1, 0, 1, 0, 1, 1, 1, 1, 1, 1, 1,\n",
       "       1, 1, 1, 1, 1, 0, 1, 1, 1, 0, 1, 1, 1, 1, 1, 1, 1, 1, 0, 1, 1, 1,\n",
       "       1, 1, 1, 1, 0, 1, 1, 1, 0, 1, 1, 1, 1, 1, 1, 1, 1, 1, 1, 0, 1, 1,\n",
       "       0, 1, 1, 1, 1, 1, 1, 1, 1, 1, 0, 1, 1, 1, 1, 1, 1, 1, 1, 1, 1, 0,\n",
       "       1, 1, 1, 1, 1, 1, 1, 0, 1, 1, 1, 1, 1, 1, 1, 1, 1, 1, 1, 1, 1, 1,\n",
       "       0, 1, 1, 1, 1, 1, 1, 2, 1, 0, 1, 1, 1, 0, 1, 1, 1, 1, 1, 0, 0, 0,\n",
       "       0, 1, 1, 1, 1, 1, 0, 1, 1, 1, 1, 1, 1, 1, 1, 1, 1, 1, 0, 1, 1, 1,\n",
       "       1, 1, 1, 0, 1, 1, 1, 1, 1, 1, 1, 1, 1, 1, 1, 1, 1, 1, 1, 1, 0, 1,\n",
       "       1, 1, 1, 0, 1, 0, 1, 1, 1, 1, 1, 2, 1, 1, 1, 2, 1, 1, 1, 1, 0, 1,\n",
       "       0, 1, 2, 1, 1, 1, 0, 1, 1, 1, 1, 0, 0, 0, 1, 0, 1, 1, 1, 1, 1, 1,\n",
       "       0, 1, 1, 1, 1, 0, 1, 1, 1, 1, 1, 1, 1, 1, 1, 1, 1, 1, 1, 0, 1, 2,\n",
       "       1, 1, 1, 1, 1, 1, 1, 1, 1, 1, 1, 1, 1, 0, 1, 0, 0, 1, 1, 0, 1, 1,\n",
       "       1, 1, 2, 0, 1, 1, 1, 1, 0, 1, 1, 1, 1, 0], dtype=int32)"
      ]
     },
     "execution_count": 8,
     "metadata": {},
     "output_type": "execute_result"
    }
   ],
   "source": [
    "estimator.predict(data)[:300]  # 这里直接拿着原来的数据集进行了预测; .fit + .predict 可以使用 fit_predict() 一步到位"
   ]
  },
  {
   "cell_type": "code",
   "execution_count": 11,
   "metadata": {
    "pycharm": {
     "name": "#%%\n"
    }
   },
   "outputs": [
    {
     "name": "stdout",
     "output_type": "stream",
     "text": [
      "轮廓系数法预测的结果为：{score_sc}\n"
     ]
    }
   ],
   "source": [
    "# 使用轮廓系数法进行评估\n",
    "from sklearn import metrics\n",
    "predict = estimator.predict(X=data)\n",
    "score_sc = metrics.silhouette_score(X=data, labels=predict)\n",
    "print('轮廓系数法预测的结果为：{score_sc}')"
   ]
  },
  {
   "cell_type": "code",
   "execution_count": 12,
   "metadata": {},
   "outputs": [
    {
     "data": {
      "text/plain": [
       "0.5367855136575899"
      ]
     },
     "execution_count": 12,
     "metadata": {},
     "output_type": "execute_result"
    }
   ],
   "source": [
    "score_sc"
   ]
  }
 ],
 "metadata": {
  "interpreter": {
   "hash": "7e1998ff7f8aa20ada591c520b972326324e5ea05489af9e422744c7c09f6dad"
  },
  "kernelspec": {
   "display_name": "Python 3.10.1 64-bit",
   "language": "python",
   "name": "python3"
  },
  "language_info": {
   "codemirror_mode": {
    "name": "ipython",
    "version": 3
   },
   "file_extension": ".py",
   "mimetype": "text/x-python",
   "name": "python",
   "nbconvert_exporter": "python",
   "pygments_lexer": "ipython3",
   "version": "3.10.1"
  },
  "orig_nbformat": 4
 },
 "nbformat": 4,
 "nbformat_minor": 2
}